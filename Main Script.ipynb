{
  "nbformat": 4,
  "nbformat_minor": 0,
  "metadata": {
    "colab": {
      "provenance": []
    },
    "kernelspec": {
      "name": "python3",
      "display_name": "Python 3"
    },
    "language_info": {
      "name": "python"
    }
  },
  "cells": [
    {
      "cell_type": "code",
      "execution_count": null,
      "metadata": {
        "id": "8UvhaF1WyC-9",
        "colab": {
          "base_uri": "https://localhost:8080/"
        },
        "outputId": "d1ee4f15-c43a-4eb5-b269-1e7c1c171977"
      },
      "outputs": [
        {
          "output_type": "stream",
          "name": "stdout",
          "text": [
            "Requirement already satisfied: pandas in /usr/local/lib/python3.10/dist-packages (2.1.4)\n",
            "Requirement already satisfied: requests in /usr/local/lib/python3.10/dist-packages (2.32.3)\n",
            "Requirement already satisfied: opencv-python-headless in /usr/local/lib/python3.10/dist-packages (4.10.0.84)\n",
            "Requirement already satisfied: numpy<2,>=1.22.4 in /usr/local/lib/python3.10/dist-packages (from pandas) (1.26.4)\n",
            "Requirement already satisfied: python-dateutil>=2.8.2 in /usr/local/lib/python3.10/dist-packages (from pandas) (2.8.2)\n",
            "Requirement already satisfied: pytz>=2020.1 in /usr/local/lib/python3.10/dist-packages (from pandas) (2024.2)\n",
            "Requirement already satisfied: tzdata>=2022.1 in /usr/local/lib/python3.10/dist-packages (from pandas) (2024.1)\n",
            "Requirement already satisfied: charset-normalizer<4,>=2 in /usr/local/lib/python3.10/dist-packages (from requests) (3.3.2)\n",
            "Requirement already satisfied: idna<4,>=2.5 in /usr/local/lib/python3.10/dist-packages (from requests) (3.8)\n",
            "Requirement already satisfied: urllib3<3,>=1.21.1 in /usr/local/lib/python3.10/dist-packages (from requests) (2.0.7)\n",
            "Requirement already satisfied: certifi>=2017.4.17 in /usr/local/lib/python3.10/dist-packages (from requests) (2024.8.30)\n",
            "Requirement already satisfied: six>=1.5 in /usr/local/lib/python3.10/dist-packages (from python-dateutil>=2.8.2->pandas) (1.16.0)\n",
            "Requirement already satisfied: easyocr in /usr/local/lib/python3.10/dist-packages (1.7.1)\n",
            "Requirement already satisfied: torch in /usr/local/lib/python3.10/dist-packages (from easyocr) (2.4.0+cu121)\n",
            "Requirement already satisfied: torchvision>=0.5 in /usr/local/lib/python3.10/dist-packages (from easyocr) (0.19.0+cu121)\n",
            "Requirement already satisfied: opencv-python-headless in /usr/local/lib/python3.10/dist-packages (from easyocr) (4.10.0.84)\n",
            "Requirement already satisfied: scipy in /usr/local/lib/python3.10/dist-packages (from easyocr) (1.13.1)\n",
            "Requirement already satisfied: numpy in /usr/local/lib/python3.10/dist-packages (from easyocr) (1.26.4)\n",
            "Requirement already satisfied: Pillow in /usr/local/lib/python3.10/dist-packages (from easyocr) (9.4.0)\n",
            "Requirement already satisfied: scikit-image in /usr/local/lib/python3.10/dist-packages (from easyocr) (0.23.2)\n",
            "Requirement already satisfied: python-bidi in /usr/local/lib/python3.10/dist-packages (from easyocr) (0.6.0)\n",
            "Requirement already satisfied: PyYAML in /usr/local/lib/python3.10/dist-packages (from easyocr) (6.0.2)\n",
            "Requirement already satisfied: Shapely in /usr/local/lib/python3.10/dist-packages (from easyocr) (2.0.6)\n",
            "Requirement already satisfied: pyclipper in /usr/local/lib/python3.10/dist-packages (from easyocr) (1.3.0.post5)\n",
            "Requirement already satisfied: ninja in /usr/local/lib/python3.10/dist-packages (from easyocr) (1.11.1.1)\n",
            "Requirement already satisfied: filelock in /usr/local/lib/python3.10/dist-packages (from torch->easyocr) (3.16.0)\n",
            "Requirement already satisfied: typing-extensions>=4.8.0 in /usr/local/lib/python3.10/dist-packages (from torch->easyocr) (4.12.2)\n",
            "Requirement already satisfied: sympy in /usr/local/lib/python3.10/dist-packages (from torch->easyocr) (1.13.2)\n",
            "Requirement already satisfied: networkx in /usr/local/lib/python3.10/dist-packages (from torch->easyocr) (3.3)\n",
            "Requirement already satisfied: jinja2 in /usr/local/lib/python3.10/dist-packages (from torch->easyocr) (3.1.4)\n",
            "Requirement already satisfied: fsspec in /usr/local/lib/python3.10/dist-packages (from torch->easyocr) (2024.6.1)\n",
            "Requirement already satisfied: imageio>=2.33 in /usr/local/lib/python3.10/dist-packages (from scikit-image->easyocr) (2.34.2)\n",
            "Requirement already satisfied: tifffile>=2022.8.12 in /usr/local/lib/python3.10/dist-packages (from scikit-image->easyocr) (2024.8.30)\n",
            "Requirement already satisfied: packaging>=21 in /usr/local/lib/python3.10/dist-packages (from scikit-image->easyocr) (24.1)\n",
            "Requirement already satisfied: lazy-loader>=0.4 in /usr/local/lib/python3.10/dist-packages (from scikit-image->easyocr) (0.4)\n",
            "Requirement already satisfied: MarkupSafe>=2.0 in /usr/local/lib/python3.10/dist-packages (from jinja2->torch->easyocr) (2.1.5)\n",
            "Requirement already satisfied: mpmath<1.4,>=1.1.0 in /usr/local/lib/python3.10/dist-packages (from sympy->torch->easyocr) (1.3.0)\n"
          ]
        }
      ],
      "source": [
        "# Run this if not already installed\n",
        "!pip install pandas requests opencv-python-headless\n",
        "!pip install easyocr"
      ]
    },
    {
      "cell_type": "code",
      "source": [
        "!pip install pytesseract\n"
      ],
      "metadata": {
        "colab": {
          "base_uri": "https://localhost:8080/"
        },
        "id": "JhO25mCJ0mIj",
        "outputId": "b9894602-fdc4-4306-d47d-3f3ddf5717b9"
      },
      "execution_count": null,
      "outputs": [
        {
          "output_type": "stream",
          "name": "stdout",
          "text": [
            "Collecting pytesseract\n",
            "  Downloading pytesseract-0.3.13-py3-none-any.whl.metadata (11 kB)\n",
            "Requirement already satisfied: packaging>=21.3 in /usr/local/lib/python3.10/dist-packages (from pytesseract) (24.1)\n",
            "Requirement already satisfied: Pillow>=8.0.0 in /usr/local/lib/python3.10/dist-packages (from pytesseract) (9.4.0)\n",
            "Downloading pytesseract-0.3.13-py3-none-any.whl (14 kB)\n",
            "Installing collected packages: pytesseract\n",
            "Successfully installed pytesseract-0.3.13\n"
          ]
        }
      ]
    },
    {
      "cell_type": "code",
      "source": [
        "# Import necessary libraries\n",
        "import numpy as np\n",
        "import pandas as pd\n",
        "import cv2\n",
        "import requests\n",
        "from PIL import Image\n",
        "from io import BytesIO\n",
        "import matplotlib.pyplot as plt\n",
        "import tensorflow as tf\n",
        "from tensorflow.keras.models import Sequential\n",
        "from tensorflow.keras.layers import Dense, Conv2D, MaxPooling2D, Flatten, Dropout\n",
        "from sklearn.metrics import f1_score\n",
        "from sklearn.model_selection import train_test_split\n",
        "import pytesseract\n",
        "from tensorflow.keras.preprocessing.image import ImageDataGenerator\n",
        "from tensorflow.keras.optimizers import Adam\n",
        "import random\n",
        "\n",
        "# Set random seed for reproducibility\n",
        "random.seed(42)\n"
      ],
      "metadata": {
        "id": "zp0fqWAc0Yr6"
      },
      "execution_count": null,
      "outputs": []
    },
    {
      "cell_type": "code",
      "source": [
        "!apt-get install tesseract-ocr -y\n"
      ],
      "metadata": {
        "colab": {
          "base_uri": "https://localhost:8080/"
        },
        "id": "KJn_4CG91CBj",
        "outputId": "e28a96e1-b6db-487f-f673-918c063a316f"
      },
      "execution_count": null,
      "outputs": [
        {
          "output_type": "stream",
          "name": "stdout",
          "text": [
            "Reading package lists... Done\n",
            "Building dependency tree... Done\n",
            "Reading state information... Done\n",
            "The following additional packages will be installed:\n",
            "  tesseract-ocr-eng tesseract-ocr-osd\n",
            "The following NEW packages will be installed:\n",
            "  tesseract-ocr tesseract-ocr-eng tesseract-ocr-osd\n",
            "0 upgraded, 3 newly installed, 0 to remove and 49 not upgraded.\n",
            "Need to get 4,816 kB of archives.\n",
            "After this operation, 15.6 MB of additional disk space will be used.\n",
            "Get:1 http://archive.ubuntu.com/ubuntu jammy/universe amd64 tesseract-ocr-eng all 1:4.00~git30-7274cfa-1.1 [1,591 kB]\n",
            "Get:2 http://archive.ubuntu.com/ubuntu jammy/universe amd64 tesseract-ocr-osd all 1:4.00~git30-7274cfa-1.1 [2,990 kB]\n",
            "Get:3 http://archive.ubuntu.com/ubuntu jammy/universe amd64 tesseract-ocr amd64 4.1.1-2.1build1 [236 kB]\n",
            "Fetched 4,816 kB in 1s (5,081 kB/s)\n",
            "Selecting previously unselected package tesseract-ocr-eng.\n",
            "(Reading database ... 123597 files and directories currently installed.)\n",
            "Preparing to unpack .../tesseract-ocr-eng_1%3a4.00~git30-7274cfa-1.1_all.deb ...\n",
            "Unpacking tesseract-ocr-eng (1:4.00~git30-7274cfa-1.1) ...\n",
            "Selecting previously unselected package tesseract-ocr-osd.\n",
            "Preparing to unpack .../tesseract-ocr-osd_1%3a4.00~git30-7274cfa-1.1_all.deb ...\n",
            "Unpacking tesseract-ocr-osd (1:4.00~git30-7274cfa-1.1) ...\n",
            "Selecting previously unselected package tesseract-ocr.\n",
            "Preparing to unpack .../tesseract-ocr_4.1.1-2.1build1_amd64.deb ...\n",
            "Unpacking tesseract-ocr (4.1.1-2.1build1) ...\n",
            "Setting up tesseract-ocr-eng (1:4.00~git30-7274cfa-1.1) ...\n",
            "Setting up tesseract-ocr-osd (1:4.00~git30-7274cfa-1.1) ...\n",
            "Setting up tesseract-ocr (4.1.1-2.1build1) ...\n",
            "Processing triggers for man-db (2.10.2-1) ...\n"
          ]
        }
      ]
    },
    {
      "cell_type": "code",
      "source": [
        "import pytesseract\n",
        "pytesseract.pytesseract.tesseract_cmd = r'/usr/bin/tesseract'\n"
      ],
      "metadata": {
        "id": "r5TLNp5l1FJI"
      },
      "execution_count": null,
      "outputs": []
    },
    {
      "cell_type": "code",
      "source": [
        "!pip install tqdm\n"
      ],
      "metadata": {
        "colab": {
          "base_uri": "https://localhost:8080/"
        },
        "id": "y7ZzLNG61rle",
        "outputId": "db8ce9b8-cf95-43ae-ca01-adea26d2e5ea"
      },
      "execution_count": null,
      "outputs": [
        {
          "output_type": "stream",
          "name": "stdout",
          "text": [
            "Requirement already satisfied: tqdm in /usr/local/lib/python3.10/dist-packages (4.66.5)\n"
          ]
        }
      ]
    },
    {
      "cell_type": "code",
      "source": [
        "import numpy as np\n",
        "import pandas as pd\n",
        "import cv2\n",
        "import requests\n",
        "from PIL import Image, UnidentifiedImageError\n",
        "from io import BytesIO\n",
        "import pytesseract\n",
        "from tqdm import tqdm\n",
        "\n",
        "# Load sampletrain.csv data\n",
        "train_df = pd.read_csv(\"/content/Book1(1).csv\")\n",
        "test_df = pd.read_csv(\"/content/Book2test(2).csv\")\n",
        "\n",
        "# Function to download and preprocess image\n",
        "def load_image_from_url(image_url):\n",
        "    try:\n",
        "        response = requests.get(image_url)\n",
        "        # Check if the response is valid and the content type is an image\n",
        "        if response.status_code == 200 and 'image' in response.headers['Content-Type']:\n",
        "            img = Image.open(BytesIO(response.content))\n",
        "            img = img.resize((128, 128))  # Resizing images to standard size for CNN\n",
        "            img = np.array(img)\n",
        "            if img.shape[-1] == 4:  # Handle transparency in PNG\n",
        "                img = img[..., :3]\n",
        "            return img / 255.0  # Normalize image\n",
        "        else:\n",
        "            print(f\"Invalid image URL or non-image content at: {image_url}\")\n",
        "            return np.zeros((128, 128, 3))  # Return a black image as a placeholder\n",
        "    except UnidentifiedImageError:\n",
        "        print(f\"UnidentifiedImageError for URL: {image_url}\")\n",
        "        return np.zeros((128, 128, 3))  # Return a black image as a placeholder\n",
        "    except Exception as e:\n",
        "        print(f\"Error downloading image from {image_url}: {e}\")\n",
        "        return np.zeros((128, 128, 3))  # Return a black image as a placeholder\n",
        "\n",
        "# Function to extract text using OCR\n",
        "def extract_text_from_image(image_url):\n",
        "    try:\n",
        "        response = requests.get(image_url)\n",
        "        if response.status_code == 200 and 'image' in response.headers['Content-Type']:\n",
        "            img = Image.open(BytesIO(response.content))\n",
        "            text = pytesseract.image_to_string(img)\n",
        "            return text\n",
        "        else:\n",
        "            print(f\"Invalid image URL or non-image content at: {image_url}\")\n",
        "            return \"\"  # Return empty string for non-image content\n",
        "    except UnidentifiedImageError:\n",
        "        print(f\"UnidentifiedImageError for URL: {image_url}\")\n",
        "        return \"\"  # Return empty string for invalid images\n",
        "    except Exception as e:\n",
        "        print(f\"Error extracting text from {image_url}: {e}\")\n",
        "        return \"\"  # Return empty string in case of error\n",
        "\n",
        "# Apply to the dataset with progress bar\n",
        "tqdm.pandas()  # Enable progress_apply for pandas\n",
        "\n",
        "train_df['image_data'] = train_df['image_link'].progress_apply(load_image_from_url)\n",
        "train_df['ocr_text'] = train_df['image_link'].progress_apply(extract_text_from_image)\n",
        "\n",
        "test_df['image_data'] = test_df['image_link'].progress_apply(load_image_from_url)\n",
        "test_df['ocr_text'] = test_df['image_link'].progress_apply(extract_text_from_image)\n"
      ],
      "metadata": {
        "colab": {
          "base_uri": "https://localhost:8080/"
        },
        "id": "LTIJhQLs0ptc",
        "outputId": "b24affae-3913-42e8-8a4f-066fde967bd9"
      },
      "execution_count": null,
      "outputs": [
        {
          "output_type": "stream",
          "name": "stderr",
          "text": [
            " 52%|█████▏    | 523/999 [00:56<00:50,  9.35it/s]"
          ]
        },
        {
          "output_type": "stream",
          "name": "stdout",
          "text": [
            "Invalid image URL or non-image content at: https://m.media-amazon.com/images/I/1yw53vfQtS.jpg\n"
          ]
        },
        {
          "output_type": "stream",
          "name": "stderr",
          "text": [
            "100%|██████████| 999/999 [01:44<00:00,  9.56it/s]\n",
            " 52%|█████▏    | 521/999 [10:41<08:17,  1.04s/it]"
          ]
        },
        {
          "output_type": "stream",
          "name": "stdout",
          "text": [
            "Invalid image URL or non-image content at: https://m.media-amazon.com/images/I/1yw53vfQtS.jpg\n"
          ]
        },
        {
          "output_type": "stream",
          "name": "stderr",
          "text": [
            "100%|██████████| 999/999 [19:41<00:00,  1.18s/it]\n",
            "100%|██████████| 999/999 [00:43<00:00, 22.83it/s]\n",
            "100%|██████████| 999/999 [04:52<00:00,  3.41it/s]\n"
          ]
        }
      ]
    },
    {
      "cell_type": "code",
      "source": [
        "from tensorflow.keras.preprocessing.image import ImageDataGenerator\n",
        "\n",
        "# Enhanced Data Augmentation to improve model generalization\n",
        "data_gen = ImageDataGenerator(\n",
        "    rotation_range=20,                # Increase rotation range\n",
        "    width_shift_range=0.2,            # Increase width shift range\n",
        "    height_shift_range=0.2,           # Increase height shift range\n",
        "    zoom_range=0.2,                   # Increase zoom range\n",
        "    horizontal_flip=True,\n",
        "    vertical_flip=True,              # Add vertical flipping\n",
        "    shear_range=0.2,                  # Add shear transformations\n",
        "    brightness_range=[0.8, 1.2],     # Random brightness adjustment\n",
        "    fill_mode='nearest'\n",
        ")\n",
        "\n",
        "# Sample augmented images\n",
        "image_sample = train_df['image_data'].iloc[0].reshape((1, 128, 128, 3))  # Sample image for augmentation\n",
        "augmented_images = data_gen.flow(image_sample, batch_size=1)\n",
        "\n",
        "# Plot augmented images\n",
        "for i in range(5):\n",
        "    augmented_image = next(augmented_images)[0]\n",
        "    plt.imshow(augmented_image)\n",
        "    plt.axis('off')  # Hide axis for better visualization\n",
        "    plt.show()\n"
      ],
      "metadata": {
        "colab": {
          "base_uri": "https://localhost:8080/",
          "height": 1000
        },
        "id": "204jXrojAs9Q",
        "outputId": "5bcc25aa-75bf-4001-e3ee-dadb95119dee"
      },
      "execution_count": null,
      "outputs": [
        {
          "output_type": "display_data",
          "data": {
            "text/plain": [
              "<Figure size 640x480 with 1 Axes>"
            ],
            "image/png": "[encoded data removed]"
          },
          "metadata": {}
        },
        {
          "output_type": "display_data",
          "data": {
            "text/plain": [
              "<Figure size 640x480 with 1 Axes>"
            ],
            "image/png": "[encoded data removed]"
          },
          "metadata": {}
        },
        {
          "output_type": "display_data",
          "data": {
            "text/plain": [
              "<Figure size 640x480 with 1 Axes>"
            ],
            "image/png": "[encoded data removed]"
          },
          "metadata": {}
        },
        {
          "output_type": "display_data",
          "data": {
            "text/plain": [
              "<Figure size 640x480 with 1 Axes>"
            ],
            "image/png": "[encoded data removed]"
          },
          "metadata": {}
        },
        {
          "output_type": "display_data",
          "data": {
            "text/plain": [
              "<Figure size 640x480 with 1 Axes>"
            ],
            "image/png": "[encoded data removed]"
          },
          "metadata": {}
        }
      ]
    },
    {
      "cell_type": "code",
      "source": [
        "import numpy as np\n",
        "import pandas as pd\n",
        "from sklearn.model_selection import train_test_split\n",
        "from tensorflow.keras.models import Sequential\n",
        "from tensorflow.keras.layers import Conv2D, MaxPooling2D, Flatten, Dense, Dropout\n",
        "from tensorflow.keras.optimizers import Adam\n",
        "from tensorflow.keras.applications import VGG16\n",
        "from tensorflow.keras.models import Model\n",
        "from tensorflow.keras.layers import Dense, Flatten, Dropout\n",
        "from tensorflow.keras.optimizers import Adam\n",
        "\n",
        "def create_cnn_model():\n",
        "    # Load VGG16 model pre-trained on ImageNet without the top classification layer\n",
        "    base_model = VGG16(weights='imagenet', include_top=False, input_shape=(128, 128, 3))\n",
        "\n",
        "    # Freeze base model layers to retain pre-trained features\n",
        "    for layer in base_model.layers:\n",
        "        layer.trainable = False\n",
        "\n",
        "    # Add custom top layers\n",
        "    x = base_model.output\n",
        "    x = Flatten()(x)\n",
        "    x = Dense(256, activation='relu')(x)\n",
        "    x = Dropout(0.5)(x)\n",
        "    x = Dense(1, activation='linear')(x)  # Output a numeric value\n",
        "\n",
        "    model = Model(inputs=base_model.input, outputs=x)\n",
        "    return model\n",
        "\n",
        "# Instantiate and compile the updated model\n",
        "cnn_model = create_cnn_model()\n",
        "cnn_model.compile(optimizer=Adam(learning_rate=0.0001), loss='mean_squared_error')\n",
        "\n",
        "# Convert images for CNN training\n",
        "X_images = np.stack(train_df['image_data'].values)\n",
        "\n",
        "# Ensure y_values is numeric\n",
        "y_values = pd.to_numeric(train_df['entity_value'], errors='coerce')\n",
        "\n",
        "# Check and handle NaNs if necessary\n",
        "if y_values.isna().any():\n",
        "    print(\"Warning: Some values in 'entity_value' could not be converted to numeric.\")\n",
        "    # Optionally handle NaNs here (e.g., impute or remove them)\n",
        "    y_values = y_values.fillna(0)  # Example: fill NaNs with 0\n",
        "\n",
        "# Convert to numpy array\n",
        "y_values = y_values.values\n",
        "\n",
        "# Train-test split\n",
        "X_train, X_val, y_train, y_val = train_test_split(X_images, y_values, test_size=0.2, random_state=42)\n",
        "\n",
        "# Ensure the shapes are correct\n",
        "print(f\"Shape of X_train: {X_train.shape}\")\n",
        "print(f\"Shape of y_train: {y_train.shape}\")\n",
        "\n",
        "# Ensure y_train and y_val are float32\n",
        "y_train = y_train.astype('float32')\n",
        "y_val = y_val.astype('float32')\n",
        "\n",
        "# Train the CNN model\n",
        "# Adjusted training parameters for better performance\n",
        "cnn_model.fit(\n",
        "    X_train,\n",
        "    y_train,\n",
        "    validation_data=(X_val, y_val),\n",
        "    epochs=20,                    # Increased number of epochs for better convergence\n",
        "    batch_size=32,                # Adjust batch size if necessary\n",
        "    callbacks=[\n",
        "        tf.keras.callbacks.EarlyStopping(monitor='val_loss', patience=3, restore_best_weights=True),  # Early stopping to prevent overfitting\n",
        "        tf.keras.callbacks.ModelCheckpoint('best_model.h5', save_best_only=True, monitor='val_loss')  # Save the best model\n",
        "    ]\n",
        ")\n",
        "\n"
      ],
      "metadata": {
        "colab": {
          "base_uri": "https://localhost:8080/",
          "height": 431
        },
        "id": "shKe-x7IP2V2",
        "outputId": "87a0919e-882c-423a-e182-07716b5ec331"
      },
      "execution_count": null,
      "outputs": [
        {
          "output_type": "stream",
          "name": "stdout",
          "text": [
            "Warning: Some values in 'entity_value' could not be converted to numeric.\n",
            "Shape of X_train: (799, 128, 128, 3)\n",
            "Shape of y_train: (799,)\n"
          ]
        },
        {
          "output_type": "error",
          "ename": "ValueError",
          "evalue": "The filepath provided must end in `.keras` (Keras model format). Received: filepath=best_model.h5",
          "traceback": [
            "\u001b[0;31m---------------------------------------------------------------------------\u001b[0m",
            "\u001b[0;31mValueError\u001b[0m                                Traceback (most recent call last)",
            "\u001b[0;32m<ipython-input-18-09d684f8be46>\u001b[0m in \u001b[0;36m<cell line: 62>\u001b[0;34m()\u001b[0m\n\u001b[1;32m     68\u001b[0m     callbacks=[\n\u001b[1;32m     69\u001b[0m         \u001b[0mtf\u001b[0m\u001b[0;34m.\u001b[0m\u001b[0mkeras\u001b[0m\u001b[0;34m.\u001b[0m\u001b[0mcallbacks\u001b[0m\u001b[0;34m.\u001b[0m\u001b[0mEarlyStopping\u001b[0m\u001b[0;34m(\u001b[0m\u001b[0mmonitor\u001b[0m\u001b[0;34m=\u001b[0m\u001b[0;34m'val_loss'\u001b[0m\u001b[0;34m,\u001b[0m \u001b[0mpatience\u001b[0m\u001b[0;34m=\u001b[0m\u001b[0;36m3\u001b[0m\u001b[0;34m,\u001b[0m \u001b[0mrestore_best_weights\u001b[0m\u001b[0;34m=\u001b[0m\u001b[0;32mTrue\u001b[0m\u001b[0;34m)\u001b[0m\u001b[0;34m,\u001b[0m  \u001b[0;31m# Early stopping to prevent overfitting\u001b[0m\u001b[0;34m\u001b[0m\u001b[0;34m\u001b[0m\u001b[0m\n\u001b[0;32m---> 70\u001b[0;31m         \u001b[0mtf\u001b[0m\u001b[0;34m.\u001b[0m\u001b[0mkeras\u001b[0m\u001b[0;34m.\u001b[0m\u001b[0mcallbacks\u001b[0m\u001b[0;34m.\u001b[0m\u001b[0mModelCheckpoint\u001b[0m\u001b[0;34m(\u001b[0m\u001b[0;34m'best_model.h5'\u001b[0m\u001b[0;34m,\u001b[0m \u001b[0msave_best_only\u001b[0m\u001b[0;34m=\u001b[0m\u001b[0;32mTrue\u001b[0m\u001b[0;34m,\u001b[0m \u001b[0mmonitor\u001b[0m\u001b[0;34m=\u001b[0m\u001b[0;34m'val_loss'\u001b[0m\u001b[0;34m)\u001b[0m  \u001b[0;31m# Save the best model\u001b[0m\u001b[0;34m\u001b[0m\u001b[0;34m\u001b[0m\u001b[0m\n\u001b[0m\u001b[1;32m     71\u001b[0m     ]\n\u001b[1;32m     72\u001b[0m )\n",
            "\u001b[0;32m/usr/local/lib/python3.10/dist-packages/keras/src/callbacks/model_checkpoint.py\u001b[0m in \u001b[0;36m__init__\u001b[0;34m(self, filepath, monitor, verbose, save_best_only, save_weights_only, mode, save_freq, initial_value_threshold)\u001b[0m\n\u001b[1;32m    189\u001b[0m         \u001b[0;32melse\u001b[0m\u001b[0;34m:\u001b[0m\u001b[0;34m\u001b[0m\u001b[0;34m\u001b[0m\u001b[0m\n\u001b[1;32m    190\u001b[0m             \u001b[0;32mif\u001b[0m \u001b[0;32mnot\u001b[0m \u001b[0mself\u001b[0m\u001b[0;34m.\u001b[0m\u001b[0mfilepath\u001b[0m\u001b[0;34m.\u001b[0m\u001b[0mendswith\u001b[0m\u001b[0;34m(\u001b[0m\u001b[0;34m\".keras\"\u001b[0m\u001b[0;34m)\u001b[0m\u001b[0;34m:\u001b[0m\u001b[0;34m\u001b[0m\u001b[0;34m\u001b[0m\u001b[0m\n\u001b[0;32m--> 191\u001b[0;31m                 raise ValueError(\n\u001b[0m\u001b[1;32m    192\u001b[0m                     \u001b[0;34m\"The filepath provided must end in `.keras` \"\u001b[0m\u001b[0;34m\u001b[0m\u001b[0;34m\u001b[0m\u001b[0m\n\u001b[1;32m    193\u001b[0m                     \u001b[0;34m\"(Keras model format). Received: \"\u001b[0m\u001b[0;34m\u001b[0m\u001b[0;34m\u001b[0m\u001b[0m\n",
            "\u001b[0;31mValueError\u001b[0m: The filepath provided must end in `.keras` (Keras model format). Received: filepath=best_model.h5"
          ]
        }
      ]
    },
    {
      "cell_type": "code",
      "source": [
        "# Use the OCR output for text-based model\n",
        "def text_based_model(ocr_text):\n",
        "    # Simple model that analyzes OCR text (could be more sophisticated)\n",
        "    if 'gram' in ocr_text.lower():\n",
        "        return 'weight'\n",
        "    elif 'volt' in ocr_text.lower():\n",
        "        return 'voltage'\n",
        "    elif 'watt' in ocr_text.lower():\n",
        "        return 'wattage'\n",
        "    # Add more entity handling rules as needed\n",
        "    return None\n",
        "\n",
        "# Apply the OCR-based model on the dataset\n",
        "train_df['predicted_entity'] = train_df['ocr_text'].apply(text_based_model)\n",
        "\n",
        "# Convert text-based predictions to numerical values for ensemble\n",
        "def entity_to_numeric(entity):\n",
        "    # Mapping text-based entities to simple numeric placeholders\n",
        "    entity_map = {'weight': 1.0, 'voltage': 2.0, 'wattage': 3.0}\n",
        "    return entity_map.get(entity, 0.0)  # Default to 0 if entity not found\n",
        "\n",
        "train_df['predicted_entity_numeric'] = train_df['predicted_entity'].apply(entity_to_numeric)\n",
        "\n",
        "# Ensemble predictions: average CNN model output and OCR predictions\n",
        "cnn_predictions = cnn_model.predict(X_images).flatten()\n",
        "\n",
        "# Ensure both columns are numeric before averaging\n",
        "train_df['ensemble_pred'] = (train_df['predicted_entity_numeric'] + cnn_predictions) / 2\n"
      ],
      "metadata": {
        "colab": {
          "base_uri": "https://localhost:8080/"
        },
        "id": "ZOky5crQRskS",
        "outputId": "0d9007bc-ee26-4609-917e-ef2db8384947"
      },
      "execution_count": null,
      "outputs": [
        {
          "output_type": "stream",
          "name": "stdout",
          "text": [
            "\u001b[1m32/32\u001b[0m \u001b[32m━━━━━━━━━━━━━━━━━━━━\u001b[0m\u001b[37m\u001b[0m \u001b[1m6s\u001b[0m 185ms/step\n"
          ]
        }
      ]
    },
    {
      "cell_type": "code",
      "source": [
        "import numpy as np\n",
        "import requests\n",
        "from PIL import Image\n",
        "from io import BytesIO\n",
        "\n",
        "def load_image_from_url(image_url, target_size=(128, 128)):\n",
        "    try:\n",
        "        response = requests.get(image_url)\n",
        "        img = Image.open(BytesIO(response.content))\n",
        "        img = img.convert('RGB')  # Ensure image is RGB\n",
        "        img = img.resize(target_size)  # Resize images to standard size\n",
        "        img = np.array(img)\n",
        "        return img / 255.0  # Normalize image\n",
        "    except Exception as e:\n",
        "        print(f\"Error loading image from {image_url}: {e}\")\n",
        "        # Return a blank image in case of an error\n",
        "        return np.zeros((*target_size, 3))\n",
        "\n",
        "def preprocess_images(image_urls, target_size=(128, 128)):\n",
        "    images = []\n",
        "    for url in image_urls:\n",
        "        img = load_image_from_url(url, target_size)\n",
        "        if img.shape != (*target_size, 3):\n",
        "            print(f\"Unexpected image shape: {img.shape}\")\n",
        "            img = np.zeros((*target_size, 3))  # Replace with a blank image if shape is incorrect\n",
        "        images.append(img)\n",
        "    images_array = np.array(images)\n",
        "    return images_array\n",
        "\n",
        "# Example usage for test data\n",
        "test_image_urls = test_df['image_link'].values  # Assuming image URLs are in 'image_link'\n",
        "test_images = preprocess_images(test_image_urls)\n",
        "print(f\"Shape of test_images: {test_images.shape}\")\n",
        "\n"
      ],
      "metadata": {
        "colab": {
          "base_uri": "https://localhost:8080/"
        },
        "id": "KwgREswDSOkS",
        "outputId": "3f73456d-d3bb-46a6-fe61-c006e4c07ff3"
      },
      "execution_count": null,
      "outputs": [
        {
          "output_type": "stream",
          "name": "stdout",
          "text": [
            "Shape of test_images: (999, 128, 128, 3)\n"
          ]
        }
      ]
    },
    {
      "cell_type": "code",
      "source": [
        "import cv2\n",
        "import numpy as np\n",
        "\n",
        "def preprocess_and_stack_images(image_data_list, target_size=(128, 128)):\n",
        "    \"\"\"\n",
        "    Resize and preprocess images to ensure they all have the same shape.\n",
        "\n",
        "    Args:\n",
        "        image_data_list (list of numpy arrays): List of image data arrays.\n",
        "        target_size (tuple): Target size for the images (height, width).\n",
        "\n",
        "    Returns:\n",
        "        numpy array: Stacked array of preprocessed images.\n",
        "    \"\"\"\n",
        "    processed_images = []\n",
        "\n",
        "    for img in image_data_list:\n",
        "        # Check if img is grayscale (2D) or RGB (3D)\n",
        "        if img.ndim == 2:  # Grayscale image\n",
        "            img = np.stack([img] * 3, axis=-1)  # Convert grayscale to RGB\n",
        "        elif img.ndim == 3 and img.shape[-1] == 4:  # RGBA image\n",
        "            img = img[..., :3]  # Remove alpha channel\n",
        "        elif img.ndim != 3 or img.shape[-1] not in [1, 3]:  # Unexpected number of channels\n",
        "            raise ValueError(f\"Unexpected image format. Expected grayscale or RGB with 1 or 3 channels, got {img.ndim}D with shape {img.shape}.\")\n",
        "\n",
        "        # Resize image\n",
        "        img_resized = cv2.resize(img, target_size[::-1])  # Resize to target size (width, height)\n",
        "\n",
        "        # Check image has 3 channels\n",
        "        if img_resized.shape[-1] != 3:\n",
        "            raise ValueError(f\"Unexpected number of channels in resized image. Expected 3, got {img_resized.shape[-1]}.\")\n",
        "\n",
        "        processed_images.append(img_resized)\n",
        "\n",
        "    return np.array(processed_images)\n",
        "\n",
        "# Ensure test images have the same shape\n",
        "test_image_data_list = test_df['image_data'].values\n",
        "test_images = preprocess_and_stack_images(test_image_data_list)\n",
        "\n",
        "# Predictions on test data\n",
        "cnn_predictions = cnn_model.predict(test_images).flatten()\n",
        "\n",
        "# Ensure y_true and y_pred are numeric and handle NaNs if necessary\n",
        "y_true = pd.to_numeric(train_df['entity_value'], errors='coerce').fillna(0).values\n",
        "y_pred = pd.to_numeric(train_df['ensemble_pred'], errors='coerce').fillna(0).values\n",
        "\n",
        "# Ensure the predictions and true values are compatible for F1 score calculation\n",
        "# If you are using regression, the F1 score might not be suitable; consider other metrics\n",
        "if len(y_true) == len(y_pred):\n",
        "    # For demonstration, using rounded values for binary classification example\n",
        "    f1 = f1_score(y_true.round(), y_pred.round(), average='macro')\n",
        "    print(f'Final F1 Score: {f1}')\n",
        "else:\n",
        "    print('Mismatch in length of true values and predictions.')\n"
      ],
      "metadata": {
        "colab": {
          "base_uri": "https://localhost:8080/"
        },
        "id": "TjbiDJH0gKIt",
        "outputId": "4d08fd58-7589-49a0-a087-49fc0630efe7"
      },
      "execution_count": null,
      "outputs": [
        {
          "output_type": "stream",
          "name": "stdout",
          "text": [
            "\u001b[1m32/32\u001b[0m \u001b[32m━━━━━━━━━━━━━━━━━━━━\u001b[0m\u001b[37m\u001b[0m \u001b[1m7s\u001b[0m 204ms/step\n",
            "Final F1 Score: 0.495199595755432\n"
          ]
        }
      ]
    }
  ]
}